{
 "cells": [
  {
   "cell_type": "code",
   "execution_count": 1,
   "id": "0b865c3f",
   "metadata": {},
   "outputs": [
    {
     "name": "stdout",
     "output_type": "stream",
     "text": [
      "Python version is 3.11.4\n"
     ]
    }
   ],
   "source": [
    "import pandas as pd\n",
    "import numpy as np\n",
    "import csv\n",
    "\n",
    "import matplotlib.pyplot as plt\n",
    "import seaborn as sns\n",
    "\n",
    "import warnings \n",
    "warnings.filterwarnings('ignore')\n",
    "from platform import python_version\n",
    "print(\"Python version is\", python_version())"
   ]
  },
  {
   "cell_type": "code",
   "execution_count": 2,
   "id": "17554bfd",
   "metadata": {},
   "outputs": [],
   "source": [
    "#import CSV file\n",
    "df = pd.read_csv(\"C:/Users/e0145653/Documents/WGU/D212 - Data Mining II/medical_clean.csv\")"
   ]
  },
  {
   "cell_type": "code",
   "execution_count": 3,
   "id": "4aee426b",
   "metadata": {},
   "outputs": [
    {
     "name": "stdout",
     "output_type": "stream",
     "text": [
      "The dataset has 10000 observations and 50 variables.\n"
     ]
    }
   ],
   "source": [
    "print(\"The dataset has\",df.shape[0],\"observations and\",df.shape[1],\"variables.\")"
   ]
  },
  {
   "cell_type": "code",
   "execution_count": 4,
   "id": "caceac0d",
   "metadata": {},
   "outputs": [
    {
     "data": {
      "text/plain": [
       "Index(['CaseOrder', 'Zip', 'Lat', 'Lng', 'Population', 'Children', 'Age',\n",
       "       'Income', 'VitD_levels', 'Doc_visits', 'Full_meals_eaten', 'vitD_supp',\n",
       "       'Initial_days', 'TotalCharge', 'Additional_charges', 'Item1', 'Item2',\n",
       "       'Item3', 'Item4', 'Item5', 'Item6', 'Item7', 'Item8'],\n",
       "      dtype='object')"
      ]
     },
     "execution_count": 4,
     "metadata": {},
     "output_type": "execute_result"
    }
   ],
   "source": [
    "df1 = df.select_dtypes(exclude = 'object')\n",
    "df1.columns"
   ]
  },
  {
   "cell_type": "code",
   "execution_count": 5,
   "id": "aac2bedd",
   "metadata": {},
   "outputs": [
    {
     "data": {
      "text/plain": [
       "(10000, 23)"
      ]
     },
     "execution_count": 5,
     "metadata": {},
     "output_type": "execute_result"
    }
   ],
   "source": [
    "df1.shape"
   ]
  },
  {
   "cell_type": "code",
   "execution_count": 6,
   "id": "c519d5a7",
   "metadata": {},
   "outputs": [
    {
     "name": "stdout",
     "output_type": "stream",
     "text": [
      "The dataset1 has 10000 observations and 23 variables.\n"
     ]
    }
   ],
   "source": [
    "print(\"The dataset1 has\",df1.shape[0],\"observations and\",df1.shape[1],\"variables.\")"
   ]
  },
  {
   "cell_type": "code",
   "execution_count": 7,
   "id": "2975cd7d",
   "metadata": {},
   "outputs": [],
   "source": [
    "#drop all discrete variables\n",
    "cont_df = df1.drop(['CaseOrder', 'Zip', 'Children', 'Doc_visits', 'Full_meals_eaten', 'Population', \n",
    "                    'Item1', 'Item2', 'Item3', 'Item4', 'Item5', 'Item6', 'Item7', 'Item8'], axis=1)"
   ]
  },
  {
   "cell_type": "code",
   "execution_count": 8,
   "id": "d445d1e0",
   "metadata": {},
   "outputs": [
    {
     "name": "stdout",
     "output_type": "stream",
     "text": [
      "The cont_df has 10000 observations and 9 variables.\n"
     ]
    }
   ],
   "source": [
    "print(\"The cont_df has\",cont_df.shape[0],\"observations and\",cont_df.shape[1],\"variables.\")"
   ]
  },
  {
   "cell_type": "code",
   "execution_count": 9,
   "id": "3790de15",
   "metadata": {},
   "outputs": [],
   "source": [
    "from sklearn.preprocessing import StandardScaler\n",
    "scaler = StandardScaler()\n",
    "\n",
    "norm_df = scaler.fit_transform(cont_df)"
   ]
  },
  {
   "cell_type": "code",
   "execution_count": 10,
   "id": "5603c776",
   "metadata": {},
   "outputs": [],
   "source": [
    "scaled_df = pd.DataFrame(norm_df, columns = cont_df.columns)\n",
    "scaled_df.to_csv(\"C:/Users/e0145653/Documents/WGU/D212 - Data Mining II/medical_scaled_df2.csv\")"
   ]
  },
  {
   "cell_type": "code",
   "execution_count": 11,
   "id": "2b661760",
   "metadata": {},
   "outputs": [
    {
     "data": {
      "text/html": [
       "<div>\n",
       "<style scoped>\n",
       "    .dataframe tbody tr th:only-of-type {\n",
       "        vertical-align: middle;\n",
       "    }\n",
       "\n",
       "    .dataframe tbody tr th {\n",
       "        vertical-align: top;\n",
       "    }\n",
       "\n",
       "    .dataframe thead th {\n",
       "        text-align: right;\n",
       "    }\n",
       "</style>\n",
       "<table border=\"1\" class=\"dataframe\">\n",
       "  <thead>\n",
       "    <tr style=\"text-align: right;\">\n",
       "      <th></th>\n",
       "      <th>Lat</th>\n",
       "      <th>Lng</th>\n",
       "      <th>Age</th>\n",
       "      <th>Income</th>\n",
       "      <th>VitD_levels</th>\n",
       "      <th>vitD_supp</th>\n",
       "      <th>Initial_days</th>\n",
       "      <th>TotalCharge</th>\n",
       "      <th>Additional_charges</th>\n",
       "    </tr>\n",
       "  </thead>\n",
       "  <tbody>\n",
       "    <tr>\n",
       "      <th>0</th>\n",
       "      <td>-0.814668</td>\n",
       "      <td>0.297134</td>\n",
       "      <td>-0.024795</td>\n",
       "      <td>1.615914</td>\n",
       "      <td>0.583603</td>\n",
       "      <td>-0.634713</td>\n",
       "      <td>-0.907310</td>\n",
       "      <td>-0.727185</td>\n",
       "      <td>0.765005</td>\n",
       "    </tr>\n",
       "    <tr>\n",
       "      <th>1</th>\n",
       "      <td>-1.463305</td>\n",
       "      <td>0.395522</td>\n",
       "      <td>-0.121706</td>\n",
       "      <td>0.221443</td>\n",
       "      <td>0.483901</td>\n",
       "      <td>0.956445</td>\n",
       "      <td>-0.734595</td>\n",
       "      <td>-0.513228</td>\n",
       "      <td>0.715114</td>\n",
       "    </tr>\n",
       "    <tr>\n",
       "      <th>2</th>\n",
       "      <td>0.886966</td>\n",
       "      <td>-0.354788</td>\n",
       "      <td>-0.024795</td>\n",
       "      <td>-0.915870</td>\n",
       "      <td>0.046227</td>\n",
       "      <td>-0.634713</td>\n",
       "      <td>-1.128292</td>\n",
       "      <td>-1.319983</td>\n",
       "      <td>0.698635</td>\n",
       "    </tr>\n",
       "    <tr>\n",
       "      <th>3</th>\n",
       "      <td>0.952530</td>\n",
       "      <td>-0.149403</td>\n",
       "      <td>1.186592</td>\n",
       "      <td>-0.026263</td>\n",
       "      <td>-0.687811</td>\n",
       "      <td>-0.634713</td>\n",
       "      <td>-1.244503</td>\n",
       "      <td>-1.460517</td>\n",
       "      <td>0.009004</td>\n",
       "    </tr>\n",
       "    <tr>\n",
       "      <th>4</th>\n",
       "      <td>-0.213252</td>\n",
       "      <td>0.943984</td>\n",
       "      <td>-1.526914</td>\n",
       "      <td>-1.377325</td>\n",
       "      <td>-0.260366</td>\n",
       "      <td>2.547602</td>\n",
       "      <td>-1.261991</td>\n",
       "      <td>-1.467285</td>\n",
       "      <td>-1.408991</td>\n",
       "    </tr>\n",
       "  </tbody>\n",
       "</table>\n",
       "</div>"
      ],
      "text/plain": [
       "        Lat       Lng       Age    Income  VitD_levels  vitD_supp  \\\n",
       "0 -0.814668  0.297134 -0.024795  1.615914     0.583603  -0.634713   \n",
       "1 -1.463305  0.395522 -0.121706  0.221443     0.483901   0.956445   \n",
       "2  0.886966 -0.354788 -0.024795 -0.915870     0.046227  -0.634713   \n",
       "3  0.952530 -0.149403  1.186592 -0.026263    -0.687811  -0.634713   \n",
       "4 -0.213252  0.943984 -1.526914 -1.377325    -0.260366   2.547602   \n",
       "\n",
       "   Initial_days  TotalCharge  Additional_charges  \n",
       "0     -0.907310    -0.727185            0.765005  \n",
       "1     -0.734595    -0.513228            0.715114  \n",
       "2     -1.128292    -1.319983            0.698635  \n",
       "3     -1.244503    -1.460517            0.009004  \n",
       "4     -1.261991    -1.467285           -1.408991  "
      ]
     },
     "execution_count": 11,
     "metadata": {},
     "output_type": "execute_result"
    }
   ],
   "source": [
    "scaled_df.head()"
   ]
  },
  {
   "cell_type": "code",
   "execution_count": 12,
   "id": "f137d06f",
   "metadata": {},
   "outputs": [],
   "source": [
    "from sklearn.decomposition import PCA\n",
    "\n",
    "pca = PCA()\n",
    "\n",
    "PC = pca.fit_transform(scaled_df)"
   ]
  },
  {
   "cell_type": "code",
   "execution_count": 13,
   "id": "828e1e04",
   "metadata": {},
   "outputs": [
    {
     "data": {
      "text/html": [
       "<div>\n",
       "<style scoped>\n",
       "    .dataframe tbody tr th:only-of-type {\n",
       "        vertical-align: middle;\n",
       "    }\n",
       "\n",
       "    .dataframe tbody tr th {\n",
       "        vertical-align: top;\n",
       "    }\n",
       "\n",
       "    .dataframe thead th {\n",
       "        text-align: right;\n",
       "    }\n",
       "</style>\n",
       "<table border=\"1\" class=\"dataframe\">\n",
       "  <thead>\n",
       "    <tr style=\"text-align: right;\">\n",
       "      <th></th>\n",
       "      <th>Lat</th>\n",
       "      <th>Lng</th>\n",
       "      <th>Age</th>\n",
       "      <th>Income</th>\n",
       "      <th>VitD_levels</th>\n",
       "      <th>vitD_supp</th>\n",
       "      <th>Initial_days</th>\n",
       "      <th>TotalCharge</th>\n",
       "      <th>Additional_charges</th>\n",
       "    </tr>\n",
       "  </thead>\n",
       "  <tbody>\n",
       "    <tr>\n",
       "      <th>PC1</th>\n",
       "      <td>-0.013036</td>\n",
       "      <td>-0.010564</td>\n",
       "      <td>0.086489</td>\n",
       "      <td>-0.020477</td>\n",
       "      <td>-0.001802</td>\n",
       "      <td>0.024998</td>\n",
       "      <td>0.700734</td>\n",
       "      <td>0.701888</td>\n",
       "      <td>0.086698</td>\n",
       "    </tr>\n",
       "    <tr>\n",
       "      <th>PC2</th>\n",
       "      <td>-0.008154</td>\n",
       "      <td>0.010901</td>\n",
       "      <td>0.701335</td>\n",
       "      <td>-0.018613</td>\n",
       "      <td>0.018984</td>\n",
       "      <td>0.015710</td>\n",
       "      <td>-0.092397</td>\n",
       "      <td>-0.081837</td>\n",
       "      <td>0.701253</td>\n",
       "    </tr>\n",
       "    <tr>\n",
       "      <th>PC3</th>\n",
       "      <td>0.707413</td>\n",
       "      <td>-0.698597</td>\n",
       "      <td>0.002232</td>\n",
       "      <td>-0.087390</td>\n",
       "      <td>0.058851</td>\n",
       "      <td>0.016388</td>\n",
       "      <td>-0.000589</td>\n",
       "      <td>-0.001565</td>\n",
       "      <td>0.012313</td>\n",
       "    </tr>\n",
       "    <tr>\n",
       "      <th>PC4</th>\n",
       "      <td>0.010036</td>\n",
       "      <td>-0.114161</td>\n",
       "      <td>0.010987</td>\n",
       "      <td>0.624898</td>\n",
       "      <td>-0.662226</td>\n",
       "      <td>0.396782</td>\n",
       "      <td>-0.000278</td>\n",
       "      <td>-0.002215</td>\n",
       "      <td>0.016232</td>\n",
       "    </tr>\n",
       "    <tr>\n",
       "      <th>PC5</th>\n",
       "      <td>0.021901</td>\n",
       "      <td>0.106499</td>\n",
       "      <td>-0.018152</td>\n",
       "      <td>-0.532485</td>\n",
       "      <td>-0.018938</td>\n",
       "      <td>0.838320</td>\n",
       "      <td>-0.019980</td>\n",
       "      <td>-0.018719</td>\n",
       "      <td>-0.020466</td>\n",
       "    </tr>\n",
       "    <tr>\n",
       "      <th>PC6</th>\n",
       "      <td>-0.091532</td>\n",
       "      <td>-0.088715</td>\n",
       "      <td>-0.006849</td>\n",
       "      <td>0.538584</td>\n",
       "      <td>0.744944</td>\n",
       "      <td>0.372345</td>\n",
       "      <td>0.001000</td>\n",
       "      <td>0.002000</td>\n",
       "      <td>-0.006683</td>\n",
       "    </tr>\n",
       "    <tr>\n",
       "      <th>PC7</th>\n",
       "      <td>-0.700253</td>\n",
       "      <td>-0.692417</td>\n",
       "      <td>-0.003088</td>\n",
       "      <td>-0.165768</td>\n",
       "      <td>-0.048205</td>\n",
       "      <td>-0.000856</td>\n",
       "      <td>-0.014646</td>\n",
       "      <td>-0.013250</td>\n",
       "      <td>-0.000842</td>\n",
       "    </tr>\n",
       "    <tr>\n",
       "      <th>PC8</th>\n",
       "      <td>0.003857</td>\n",
       "      <td>-0.006681</td>\n",
       "      <td>0.706714</td>\n",
       "      <td>0.002307</td>\n",
       "      <td>-0.001929</td>\n",
       "      <td>0.000288</td>\n",
       "      <td>0.031674</td>\n",
       "      <td>-0.031472</td>\n",
       "      <td>-0.706040</td>\n",
       "    </tr>\n",
       "    <tr>\n",
       "      <th>PC9</th>\n",
       "      <td>0.001484</td>\n",
       "      <td>-0.000359</td>\n",
       "      <td>0.026316</td>\n",
       "      <td>0.001313</td>\n",
       "      <td>-0.001557</td>\n",
       "      <td>-0.000580</td>\n",
       "      <td>-0.706270</td>\n",
       "      <td>0.706490</td>\n",
       "      <td>-0.036816</td>\n",
       "    </tr>\n",
       "  </tbody>\n",
       "</table>\n",
       "</div>"
      ],
      "text/plain": [
       "          Lat       Lng       Age    Income  VitD_levels  vitD_supp  \\\n",
       "PC1 -0.013036 -0.010564  0.086489 -0.020477    -0.001802   0.024998   \n",
       "PC2 -0.008154  0.010901  0.701335 -0.018613     0.018984   0.015710   \n",
       "PC3  0.707413 -0.698597  0.002232 -0.087390     0.058851   0.016388   \n",
       "PC4  0.010036 -0.114161  0.010987  0.624898    -0.662226   0.396782   \n",
       "PC5  0.021901  0.106499 -0.018152 -0.532485    -0.018938   0.838320   \n",
       "PC6 -0.091532 -0.088715 -0.006849  0.538584     0.744944   0.372345   \n",
       "PC7 -0.700253 -0.692417 -0.003088 -0.165768    -0.048205  -0.000856   \n",
       "PC8  0.003857 -0.006681  0.706714  0.002307    -0.001929   0.000288   \n",
       "PC9  0.001484 -0.000359  0.026316  0.001313    -0.001557  -0.000580   \n",
       "\n",
       "     Initial_days  TotalCharge  Additional_charges  \n",
       "PC1      0.700734     0.701888            0.086698  \n",
       "PC2     -0.092397    -0.081837            0.701253  \n",
       "PC3     -0.000589    -0.001565            0.012313  \n",
       "PC4     -0.000278    -0.002215            0.016232  \n",
       "PC5     -0.019980    -0.018719           -0.020466  \n",
       "PC6      0.001000     0.002000           -0.006683  \n",
       "PC7     -0.014646    -0.013250           -0.000842  \n",
       "PC8      0.031674    -0.031472           -0.706040  \n",
       "PC9     -0.706270     0.706490           -0.036816  "
      ]
     },
     "execution_count": 13,
     "metadata": {},
     "output_type": "execute_result"
    }
   ],
   "source": [
    "loading_matrix = pd.DataFrame(pca.components_, columns = cont_df.columns,\n",
    "                             index = ('PC1', 'PC2', 'PC3', 'PC4', 'PC5', 'PC6', 'PC7', 'PC8', 'PC9'))\n",
    "\n",
    "loading_matrix"
   ]
  },
  {
   "cell_type": "code",
   "execution_count": 15,
   "id": "626bd538",
   "metadata": {},
   "outputs": [
    {
     "name": "stdout",
     "output_type": "stream",
     "text": [
      "The variance of the first   principal component (PC1) is: 22.15%\n",
      "The variance of the second  principal component (PC2) is: 19.04%\n",
      "The variance of the third   principal component (PC3) is: 12.37%\n",
      "The variance of the fourth  principal component (PC4) is: 11.28%\n",
      "The variance of the fifth   principal component (PC5) is: 11.09%\n",
      "The variance of the sixth   principal component (PC6) is: 10.97%\n",
      "The variance of the seventh principal component (PC7) is: 9.82%\n",
      "The variance of the eighth  principal component (PC8) is: 3.15%\n",
      "The variance of the ninth   principal component (PC9) is: 0.13%\n"
     ]
    }
   ],
   "source": [
    "exp_var = pca.explained_variance_ratio_\n",
    "\n",
    "print(f\"The variance of the first   principal component (PC1) is: {exp_var[0] * 100:.2f}%\")\n",
    "print(f\"The variance of the second  principal component (PC2) is: {exp_var[1] * 100:.2f}%\")\n",
    "print(f\"The variance of the third   principal component (PC3) is: {exp_var[2] * 100:.2f}%\")\n",
    "print(f\"The variance of the fourth  principal component (PC4) is: {exp_var[3] * 100:.2f}%\")\n",
    "print(f\"The variance of the fifth   principal component (PC5) is: {exp_var[4] * 100:.2f}%\")\n",
    "print(f\"The variance of the sixth   principal component (PC6) is: {exp_var[5] * 100:.2f}%\")\n",
    "print(f\"The variance of the seventh principal component (PC7) is: {exp_var[6] * 100:.2f}%\")\n",
    "print(f\"The variance of the eighth  principal component (PC8) is: {exp_var[7] * 100:.2f}%\")\n",
    "print(f\"The variance of the ninth   principal component (PC9) is: {exp_var[8] * 100:.2f}%\")"
   ]
  },
  {
   "cell_type": "code",
   "execution_count": 16,
   "id": "6df952bf",
   "metadata": {},
   "outputs": [],
   "source": [
    "pcomp = np.arange(pca.n_components_) +1"
   ]
  },
  {
   "cell_type": "code",
   "execution_count": 17,
   "id": "3017f3ee",
   "metadata": {},
   "outputs": [
    {
     "data": {
      "image/png": "[encoded data removed]",
      "text/plain": [
       "<Figure size 700x500 with 1 Axes>"
      ]
     },
     "metadata": {},
     "output_type": "display_data"
    }
   ],
   "source": [
    "plt.figure(figsize=(7,5))\n",
    "plt.plot(pcomp, exp_var, \"b-\")\n",
    "plt.title('Scree Plot (Elbow Method)', fontsize=16)\n",
    "plt.xlabel('Number of Component', fontsize=12)\n",
    "plt.ylabel('Variance Proportion', fontsize=12)\n",
    "plt.grid()\n",
    "plt.show()"
   ]
  },
  {
   "cell_type": "code",
   "execution_count": 18,
   "id": "684a881a",
   "metadata": {},
   "outputs": [
    {
     "name": "stdout",
     "output_type": "stream",
     "text": [
      "{'PC1': 1, 'PC2': 2, 'PC3': 3}\n"
     ]
    }
   ],
   "source": [
    "print(dict(zip(['PC1', 'PC2', 'PC3'], pcomp)))"
   ]
  },
  {
   "cell_type": "code",
   "execution_count": 19,
   "id": "d1dae5af",
   "metadata": {},
   "outputs": [
    {
     "name": "stdout",
     "output_type": "stream",
     "text": [
      "Variance of the first three principal components:\n",
      "[1.99326663 1.71385821 1.11357426]\n",
      "Variance Ratios of the first three principal components:\n",
      "[0.22145192 0.19040965 0.1237181 ]\n"
     ]
    }
   ],
   "source": [
    "#identify each variance/eigenvalue of the pc defined by the elbow method\n",
    "\n",
    "print(\"Variance of the first three principal components:\")\n",
    "print(pca.explained_variance_[:3])\n",
    "\n",
    "print(\"Variance Ratios of the first three principal components:\")\n",
    "print(pca.explained_variance_ratio_[:3])"
   ]
  },
  {
   "cell_type": "code",
   "execution_count": 20,
   "id": "b55578cb",
   "metadata": {},
   "outputs": [
    {
     "name": "stdout",
     "output_type": "stream",
     "text": [
      "Total Variance of the first three components is: 13.33%\n",
      "Total Variance Ratio of the first three components is: 53.56%\n"
     ]
    }
   ],
   "source": [
    "#identify the total variance/eigenvalue captured by all pc's \n",
    "\n",
    "total_var = np.sum(pcomp[:3])/np.sum(pcomp)\n",
    "\n",
    "print(f\"Total Variance of the first three components is: {total_var * 100:.2f}%\")\n",
    "\n",
    "total_var_ratio = np.sum(pca.explained_variance_ratio_[:3])\n",
    "\n",
    "print(f\"Total Variance Ratio of the first three components is: {total_var_ratio * 100:.2f}%\")"
   ]
  },
  {
   "cell_type": "code",
   "execution_count": 21,
   "id": "43e4b03b",
   "metadata": {},
   "outputs": [
    {
     "name": "stdout",
     "output_type": "stream",
     "text": [
      "Explained variance by component: \n",
      " [0.22145192 0.19040965 0.1237181  0.11279856 0.11088038 0.10970191\n",
      " 0.09822288 0.03151473 0.00130187]\n",
      "Total variance captured by the principal components: 100.00%\n"
     ]
    }
   ],
   "source": [
    "print(\"Explained variance by component: \\n\", exp_var)\n",
    "total_var = sum(pca.explained_variance_ratio_)\n",
    "print(f\"Total variance captured by the principal components: {total_var * 100:.2f}%\")"
   ]
  },
  {
   "cell_type": "code",
   "execution_count": 22,
   "id": "e81da49c",
   "metadata": {},
   "outputs": [
    {
     "data": {
      "text/plain": [
       "array([1.99326663, 1.71385821, 1.11357426, 1.01528855, 0.99802324,\n",
       "       0.98741591, 0.88409434, 0.28366091, 0.01171804])"
      ]
     },
     "execution_count": 22,
     "metadata": {},
     "output_type": "execute_result"
    }
   ],
   "source": [
    "eigenvalues = pca.explained_variance_\n",
    "\n",
    "eigenvalues"
   ]
  },
  {
   "cell_type": "code",
   "execution_count": 24,
   "id": "f3671e0e",
   "metadata": {},
   "outputs": [
    {
     "data": {
      "image/png": "[encoded data removed]",
      "text/plain": [
       "<Figure size 700x500 with 1 Axes>"
      ]
     },
     "metadata": {},
     "output_type": "display_data"
    }
   ],
   "source": [
    "#Kaiser Criterion\n",
    "\n",
    "plt.figure(figsize=(7,5))\n",
    "plt.plot(pcomp, var, 'b')\n",
    "plt.title('Screen Plot (Kaiser Criterion)', fontsize=16)\n",
    "plt.xlabel('Number of Component', fontsize=12)\n",
    "plt.ylabel('Eigenvalues', fontsize=12)\n",
    "plt.axhline(y=1, color='g', linestyle='dashdot')\n",
    "plt.grid()\n",
    "plt.show()"
   ]
  },
  {
   "cell_type": "code",
   "execution_count": 30,
   "id": "9a6c5355",
   "metadata": {},
   "outputs": [
    {
     "name": "stdout",
     "output_type": "stream",
     "text": [
      "{'PC1': 1, 'PC2': 2, 'PC3': 3, 'PC4': 4, 'PC5': 5, 'PC6': 6}\n"
     ]
    }
   ],
   "source": [
    "print(dict(zip(['PC1', 'PC2', 'PC3', 'PC4', 'PC5', 'PC6'], pcomp)))"
   ]
  },
  {
   "cell_type": "code",
   "execution_count": 31,
   "id": "8b2b5946",
   "metadata": {
    "scrolled": true
   },
   "outputs": [
    {
     "name": "stdout",
     "output_type": "stream",
     "text": [
      "Variance of the first five principal components:\n",
      "[1.99326663 1.71385821 1.11357426 1.01528855 0.99802324 0.98741591]\n"
     ]
    }
   ],
   "source": [
    "#identify each variance/eigenvalue of the pc defined by the kaiser method\n",
    "\n",
    "print(\"Variance of the first five principal components:\")\n",
    "print(pca.explained_variance_[:6])"
   ]
  },
  {
   "cell_type": "code",
   "execution_count": 35,
   "id": "b12e6b98",
   "metadata": {},
   "outputs": [
    {
     "name": "stdout",
     "output_type": "stream",
     "text": [
      "With eigenvalues greater than 1, the total number of components to retain is 4 .\n",
      "Lowering the eigenvalue limit slightly to 0.98, the total number of components to retain increases to 6 .\n"
     ]
    }
   ],
   "source": [
    "eigenvalues = pca.explained_variance_\n",
    "\n",
    "n_components = np.sum(eigenvalues >= 1)\n",
    "n2_components = np.sum(eigenvalues >= 0.98)\n",
    "\n",
    "print(\"With eigenvalues greater than 1, the total number of components to retain is\", n_components , \".\")\n",
    "print(\"Lowering the eigenvalue limit slightly to 0.98, the total number of components to retain increases to\", n2_components, \".\")"
   ]
  },
  {
   "cell_type": "code",
   "execution_count": 36,
   "id": "abc76adc",
   "metadata": {},
   "outputs": [
    {
     "name": "stdout",
     "output_type": "stream",
     "text": [
      "The variance of PC1 is: 22.145%\n",
      "The variance of PC2 is: 19.041%\n",
      "The variance of PC3 is: 12.372%\n",
      "The variance of PC4 is: 11.280%\n",
      "The variance of PC5 is: 11.088%\n",
      "The variance of PC6 is: 10.970%\n"
     ]
    }
   ],
   "source": [
    "variance = pca.explained_variance_ratio_\n",
    "\n",
    "print(f\"The variance of PC1 is: {variance[0] * 100:.3f}%\")\n",
    "print(f\"The variance of PC2 is: {variance[1] * 100:.3f}%\")\n",
    "print(f\"The variance of PC3 is: {variance[2] * 100:.3f}%\")\n",
    "print(f\"The variance of PC4 is: {variance[3] * 100:.3f}%\")\n",
    "print(f\"The variance of PC5 is: {variance[4] * 100:.3f}%\")\n",
    "print(f\"The variance of PC6 is: {variance[5] * 100:.3f}%\")"
   ]
  },
  {
   "cell_type": "code",
   "execution_count": 40,
   "id": "86f1d242",
   "metadata": {},
   "outputs": [
    {
     "name": "stdout",
     "output_type": "stream",
     "text": [
      "The total variance captured in all six principal components is: 86.90%\n"
     ]
    }
   ],
   "source": [
    "total_variance_captured = np.sum(pca.explained_variance_ratio_[:6])\n",
    "\n",
    "print(f\"The total variance captured in all six principal components is: {total_variance_captured * 100:.2f}%\")"
   ]
  },
  {
   "cell_type": "code",
   "execution_count": null,
   "id": "dc55e1fe",
   "metadata": {},
   "outputs": [],
   "source": []
  }
 ],
 "metadata": {
  "kernelspec": {
   "display_name": "Python 3 (ipykernel)",
   "language": "python",
   "name": "python3"
  },
  "language_info": {
   "codemirror_mode": {
    "name": "ipython",
    "version": 3
   },
   "file_extension": ".py",
   "mimetype": "text/x-python",
   "name": "python",
   "nbconvert_exporter": "python",
   "pygments_lexer": "ipython3",
   "version": "3.11.4"
  }
 },
 "nbformat": 4,
 "nbformat_minor": 5
}
